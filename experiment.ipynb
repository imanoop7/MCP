{
 "cells": [
  {
   "cell_type": "code",
   "execution_count": 1,
   "id": "777f119b",
   "metadata": {},
   "outputs": [],
   "source": [
    "# #app.py\n",
    "# import os\n",
    "# import asyncio\n",
    "# from pydantic_ai import Agent\n",
    "# from pydantic_ai.mcp import MCPServerStdio\n",
    "\n",
    "# #exa_search.py\n",
    "# from mcp.server.fastmcp import FastMCP\n",
    "# from dotenv import load_dotenv\n",
    "# import os\n",
    "# from exa_py import Exa\n",
    "\n",
    "# #python_tools\n",
    "# from mcp.server.fastmcp import FastMCP\n",
    "# import io\n",
    "# import base64\n",
    "# import matplotlib.pyplot as plt\n",
    "# import sys\n",
    "# from io import StringIO\n",
    "# import traceback\n"
   ]
  },
  {
   "cell_type": "code",
   "execution_count": 3,
   "id": "596a378a",
   "metadata": {},
   "outputs": [
    {
     "ename": "RuntimeError",
     "evalue": "Already running asyncio in this thread",
     "output_type": "error",
     "traceback": [
      "\u001b[31m---------------------------------------------------------------------------\u001b[39m",
      "\u001b[31mRuntimeError\u001b[39m                              Traceback (most recent call last)",
      "\u001b[36mCell\u001b[39m\u001b[36m \u001b[39m\u001b[32mIn[3]\u001b[39m\u001b[32m, line 46\u001b[39m\n\u001b[32m     43\u001b[39m         \u001b[38;5;28;01mreturn\u001b[39;00m \u001b[33mf\u001b[39m\u001b[33m\"\u001b[39m\u001b[33mError creating chart: \u001b[39m\u001b[38;5;132;01m{\u001b[39;00m\u001b[38;5;28mstr\u001b[39m(e)\u001b[38;5;132;01m}\u001b[39;00m\u001b[33m\"\u001b[39m\n\u001b[32m     45\u001b[39m \u001b[38;5;28;01mif\u001b[39;00m \u001b[34m__name__\u001b[39m == \u001b[33m\"\u001b[39m\u001b[33m__main__\u001b[39m\u001b[33m\"\u001b[39m:\n\u001b[32m---> \u001b[39m\u001b[32m46\u001b[39m     \u001b[43mmcp\u001b[49m\u001b[43m.\u001b[49m\u001b[43mrun\u001b[49m\u001b[43m(\u001b[49m\u001b[43m)\u001b[49m\n",
      "\u001b[36mFile \u001b[39m\u001b[32md:\\GitHub\\MCP\\.venv\\Lib\\site-packages\\mcp\\server\\fastmcp\\server.py:192\u001b[39m, in \u001b[36mFastMCP.run\u001b[39m\u001b[34m(self, transport)\u001b[39m\n\u001b[32m    189\u001b[39m     \u001b[38;5;28;01mraise\u001b[39;00m \u001b[38;5;167;01mValueError\u001b[39;00m(\u001b[33mf\u001b[39m\u001b[33m\"\u001b[39m\u001b[33mUnknown transport: \u001b[39m\u001b[38;5;132;01m{\u001b[39;00mtransport\u001b[38;5;132;01m}\u001b[39;00m\u001b[33m\"\u001b[39m)\n\u001b[32m    191\u001b[39m \u001b[38;5;28;01mif\u001b[39;00m transport == \u001b[33m\"\u001b[39m\u001b[33mstdio\u001b[39m\u001b[33m\"\u001b[39m:\n\u001b[32m--> \u001b[39m\u001b[32m192\u001b[39m     \u001b[43manyio\u001b[49m\u001b[43m.\u001b[49m\u001b[43mrun\u001b[49m\u001b[43m(\u001b[49m\u001b[38;5;28;43mself\u001b[39;49m\u001b[43m.\u001b[49m\u001b[43mrun_stdio_async\u001b[49m\u001b[43m)\u001b[49m\n\u001b[32m    193\u001b[39m \u001b[38;5;28;01melse\u001b[39;00m:  \u001b[38;5;66;03m# transport == \"sse\"\u001b[39;00m\n\u001b[32m    194\u001b[39m     anyio.run(\u001b[38;5;28mself\u001b[39m.run_sse_async)\n",
      "\u001b[36mFile \u001b[39m\u001b[32md:\\GitHub\\MCP\\.venv\\Lib\\site-packages\\anyio\\_core\\_eventloop.py:59\u001b[39m, in \u001b[36mrun\u001b[39m\u001b[34m(func, backend, backend_options, *args)\u001b[39m\n\u001b[32m     57\u001b[39m     \u001b[38;5;28;01mpass\u001b[39;00m\n\u001b[32m     58\u001b[39m \u001b[38;5;28;01melse\u001b[39;00m:\n\u001b[32m---> \u001b[39m\u001b[32m59\u001b[39m     \u001b[38;5;28;01mraise\u001b[39;00m \u001b[38;5;167;01mRuntimeError\u001b[39;00m(\u001b[33mf\u001b[39m\u001b[33m\"\u001b[39m\u001b[33mAlready running \u001b[39m\u001b[38;5;132;01m{\u001b[39;00masynclib_name\u001b[38;5;132;01m}\u001b[39;00m\u001b[33m in this thread\u001b[39m\u001b[33m\"\u001b[39m)\n\u001b[32m     61\u001b[39m \u001b[38;5;28;01mtry\u001b[39;00m:\n\u001b[32m     62\u001b[39m     async_backend = get_async_backend(backend)\n",
      "\u001b[31mRuntimeError\u001b[39m: Already running asyncio in this thread"
     ]
    }
   ],
   "source": [
    "from mcp.server.fastmcp import FastMCP\n",
    "import io\n",
    "import base64\n",
    "import matplotlib.pyplot as plt\n",
    "import sys\n",
    "from io import StringIO\n",
    "import traceback\n",
    "\n",
    "mcp = FastMCP(\"python_tools\")\n",
    "\n",
    "class PythonREPL:\n",
    "    def run(self, code):\n",
    "        old_stdout = sys.stdout\n",
    "        redirected_output = sys.stdout = StringIO()\n",
    "        \n",
    "        try:\n",
    "            exec(code, globals())\n",
    "            sys.stdout = old_stdout\n",
    "            return redirected_output.getvalue()\n",
    "        except Exception as e:\n",
    "            sys.stdout = old_stdout\n",
    "            return f\"Error: {str(e)}\\n{traceback.format_exc()}\"\n",
    "\n",
    "repl = PythonREPL()\n",
    "\n",
    "@mcp.tool()\n",
    "async def python_repl(code: str) -> str:\n",
    "    \"\"\"Execute Python code.\"\"\"\n",
    "    return repl.run(code)\n",
    "\n",
    "@mcp.tool()\n",
    "async def data_visualization(code: str) -> str:\n",
    "    \"\"\"Execute Python code. Use matplotlib for visualization.\"\"\"\n",
    "    try:\n",
    "        repl.run(code)\n",
    "        buf = io.BytesIO()\n",
    "        plt.savefig(buf, format='png')\n",
    "        buf.seek(0)\n",
    "        img_str = base64.b64encode(buf.getvalue()).decode()\n",
    "        plt.close()  # Close the figure to free memory\n",
    "        return f\"data:image/png;base64,{img_str}\"\n",
    "    except Exception as e:\n",
    "        return f\"Error creating chart: {str(e)}\"\n",
    "\n",
    "if __name__ == \"__main__\":\n",
    "    mcp.run()"
   ]
  },
  {
   "cell_type": "code",
   "execution_count": null,
   "id": "8becb90c",
   "metadata": {},
   "outputs": [],
   "source": []
  }
 ],
 "metadata": {
  "kernelspec": {
   "display_name": ".venv",
   "language": "python",
   "name": "python3"
  },
  "language_info": {
   "codemirror_mode": {
    "name": "ipython",
    "version": 3
   },
   "file_extension": ".py",
   "mimetype": "text/x-python",
   "name": "python",
   "nbconvert_exporter": "python",
   "pygments_lexer": "ipython3",
   "version": "3.11.0"
  }
 },
 "nbformat": 4,
 "nbformat_minor": 5
}
